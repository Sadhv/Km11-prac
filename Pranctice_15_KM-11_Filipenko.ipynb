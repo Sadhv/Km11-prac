{
  "cells": [
    {
      "cell_type": "markdown",
      "source": [
        "# **Курс \"Програмування на мові Python\"**"
      ],
      "metadata": {
        "id": "FMqboNwO4rVs"
      }
    },
    {
      "cell_type": "markdown",
      "source": [
        "## **Практичне зайняття №15**\n",
        "\n",
        "### Тема: \"Ітератори та генератори\""
      ],
      "metadata": {
        "id": "A2T6MigL5Z06"
      }
    },
    {
      "cell_type": "markdown",
      "source": [
        "### **Завдання 1 (2 бали)**\r\n",
        "\r\n",
        "Розрахуйте коефієнти розкладу [біному Ньютона](https://uk.wikipedia.org/wiki/%D0%91%D1%96%D0%BD%D0%BE%D0%BC_%D0%9D%D1%8C%D1%8E%D1%82%D0%BE%D0%BD%D0%B0) за допомогою генератора.\r\n",
        "\r\n",
        "1. Степінь многочлена користувач має вводити з клавіатури (невід'ємне ціле число).\r\n",
        "\r\n",
        "2. Програма має підраховувати біноміальні коефіцієнти для біномів усіх степенів, починаючи від 0 і закінчуючи тим, який ввів користувач.\r\n",
        "\r\n",
        "3. Коефіцієнти мають виводитись у вигляді трикутника Паскаля.\r\n",
        "\r\n",
        "Наприклад, якщо користувач введе число 5, програма має вивести результат:\r\n",
        "\r\n",
        "1\r\n",
        "\r\n",
        "1 1\r\n",
        "\r\n",
        "1 2 1\r\n",
        "\r\n",
        "1 3 3 1\r\n",
        "\r\n",
        "1 4 6 4 1\r\n",
        "\r\n",
        "1 5 10 10 5 1\r\n"
      ],
      "metadata": {
        "id": "cfCdgK2zXm7e"
      }
    },
    {
      "cell_type": "code",
      "execution_count": 14,
      "source": [
        "def calc(n):\r\n",
        "    if n<0:\r\n",
        "        return \"Число від'ємне \"\r\n",
        "    r1 = [1]\r\n",
        "    print(*r1)\r\n",
        "    for i in range(n):\r\n",
        "        r1 = [sum(x) for x in zip([0]+r1, r1+[0])]\r\n",
        "        yield(r1)\r\n",
        "    \r\n",
        "num = int(input(\"Введіть число: \"))\r\n",
        "\r\n",
        "for i in calc(num):\r\n",
        "    print(*i)"
      ],
      "outputs": [
        {
          "output_type": "stream",
          "name": "stdout",
          "text": [
            "1\n",
            "1 1\n"
          ]
        }
      ],
      "metadata": {
        "id": "Bku8v9CjE_Qc"
      }
    },
    {
      "cell_type": "markdown",
      "source": [
        "### **Завдання 2 (1 бал)**\n",
        "\n",
        "Реалізуйте генератор колоди карт (52 штуки). Кожна карта подається у вигляді рядка типу \"*5 diamonds*\".\n",
        "\n",
        "1. 4 масті (diamonds, clubs, hearts, spades) та 13 значень карт мають зберігатись у двох окремих списках (кортежах).\n",
        "\n",
        "2. Значення від 2 до 10 мають гереруватись за допомогою функції range().\n",
        "\n",
        "3. Окрім чисел, у списку значень мають бути присутніми елементи 'A' (Ace - туз), 'J' (Jack - валет), 'Q' (Queen - дама) та 'K' (King - король).\n",
        "\n",
        "4. Карти мають виводитись у порядку від 'A' до 'K'. Порядок виведення мастей не має значення.\n",
        "\n",
        "    *Приклад:*\n",
        "\n",
        "    А diamonds\n",
        "\n",
        "    2 diamonds\n",
        "\n",
        "    ...\n",
        "\n",
        "    K diamonds\n",
        "\n",
        "    A clubs\n",
        "\n",
        "    ...\n",
        "\n",
        "5. Кожна наступна карта має виводитись за допомогою функції next().\n",
        "\n",
        "6. Виведення карт має завершуватись виключенням StopIteration."
      ],
      "metadata": {}
    },
    {
      "cell_type": "code",
      "execution_count": null,
      "source": [
        "suit = [\"diamonds\", \"clubs\", \"hearts\", \"spades\"]\r\n",
        "values = [\"A\", \"2\", \"3\", \"4\", \"5\", \"6\", \"7\", \"8\", \"9\", \"10\", \"J\", \"Q\", \"K\"]\r\n",
        "for el in suit:\r\n",
        "    for i in values:\r\n",
        "        a = (next(zip([i],[el])))\r\n",
        "        print(a[0], a[1])"
      ],
      "outputs": [],
      "metadata": {}
    }
  ],
  "metadata": {
    "colab": {
      "collapsed_sections": [],
      "name": "Practice_10-11_KM_01_.ipynb",
      "provenance": []
    },
    "kernelspec": {
      "name": "python3",
      "display_name": "Python 3.9.7 64-bit"
    },
    "language_info": {
      "codemirror_mode": {
        "name": "ipython",
        "version": 3
      },
      "file_extension": ".py",
      "mimetype": "text/x-python",
      "name": "python",
      "nbconvert_exporter": "python",
      "pygments_lexer": "ipython3",
      "version": "3.9.7"
    },
    "interpreter": {
      "hash": "a01572ae87c7a70bb71862a23998228b497fb47c464a08acd6ccbfd238a6f964"
    }
  },
  "nbformat": 4,
  "nbformat_minor": 2
}