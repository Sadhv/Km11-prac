{
  "cells": [
    {
      "cell_type": "markdown",
      "source": [
        "# **Курс \"Програмування на мові Python\"**"
      ],
      "metadata": {
        "id": "FMqboNwO4rVs"
      }
    },
    {
      "cell_type": "markdown",
      "source": [
        "## **Практичне зайняття №7**\n",
        "\n",
        "### Тема: \"Робота з рядками. Глибокі копії об'єктів.\""
      ],
      "metadata": {
        "id": "A2T6MigL5Z06"
      }
    },
    {
      "cell_type": "markdown",
      "source": [
        "### **Завдання 1 (1 бал)**\r\n",
        "\r\n",
        "Створіть рядок формату, що дозволить отримати дані з кортежу format_tuple та вивести рядок:\r\n",
        "\r\n",
        "*Euler first used **pi** = **3.14** in his **1736** work **Mechanica**, and continued in his widely-read **1748** work Introductio in analysin infinitorum. In hexadecimal system, **pi** is **0x1.91eb851eb851fp+1**.*\r\n",
        "\r\n",
        "У рядку формату мають бути 7 заповнювачів (слово pi повторюється двічі, число 3.1415 також використовується двічі). У методі format() мають бути звернення безпосередньо до елементів кортежу.\r\n",
        "\r\n",
        "1. Для округлення значень скористайтесь функцією round().\r\n",
        "\r\n",
        "2. Щоб конвертувати число типу float у шістнадцяткову форму, скористайтесь методом float.hex().  Щоб отримати потрібне шістнадцяткове представлення, конвертуйте значення pi, округлене до сотих (https://python-reference.readthedocs.io/en/latest/docs/float/hex.html)."
      ],
      "metadata": {}
    },
    {
      "cell_type": "code",
      "execution_count": 28,
      "source": [
        "format_tuple = (1736, 3.1415, 'pi', 1748, 'Mechanica')\r\n",
        "format_tuple2 = (round(3.1415,2), float.hex(round(3.1415,2)))\r\n",
        "asd = \"Euler first used {2} =  in his {0} work {4}, and continued in his widely-ready {3} work Introductio in analysin infinitorum.In hexadecimal system, {2} is \".format(*format_tuple)\r\n",
        "asd = \"Euler first used pi = {0} in his 1736 work Mechanica, and continued in his widely-ready 1748 work Introductio in analysin infinitorum.In hexadecimal system, pi is {1}\".format(*format_tuple2)\r\n",
        "asd\r\n"
      ],
      "outputs": [
        {
          "output_type": "execute_result",
          "data": {
            "text/plain": [
              "'Euler first used pi = 3.14 in his 1736 work Mechanica, and continued in his widely-ready 1748 work Introductio in analysin infinitorum.In hexadecimal system, pi is 0x1.91eb851eb851fp+1'"
            ]
          },
          "metadata": {},
          "execution_count": 28
        }
      ],
      "metadata": {}
    },
    {
      "cell_type": "markdown",
      "source": [
        "### **Завдання 2 (2 бали)**\r\n",
        "\r\n",
        "*RGB (скорочено від англ. Red, Green, Blue — червоний, зелений, синій) — адитивна колірна модель, що описує спосіб синтезу кольору, за якою червоне, зелене та синє світло накладаються разом, змішуючись у різноманітні кольори. У моделі RGB колір кодується градаціями складових каналів (Red, Green, Blue). Кожен канал може набувати цілого значення на інтервалі [0; 255]. Наприклад, (255, 0, 0) - червоний колір, (0, 255, 0) - зелений, (255, 255, 0) - жовтий тощо. Візуалізувати кольори за кодами можна за посиланням:*\r\n",
        "\r\n",
        "*https://www.w3schools.com/colors/colors_rgb.asp*\r\n",
        "\r\n",
        "*Досить часто, особливо у веб-програмуванні, можна зустріти шістнадцяткове представлення кольорів. Щоб з шістнадцяткового представлення отримати десяткове, потрібно розбити 6 шістнадцяткових значень на 3 групи по 2 значення і конвертувати кожну пару шістнадцяткових значень у десяткові числа.*\r\n",
        "\r\n",
        "Написати програму, яка конвертуватиме шістнадцяткове представлення кольору у десятковий формат. Програма має приймати на вхід 6 символів (цифри 0-9 або літери A-F) та конвертувати їх у три цілі числа.\r\n",
        "\r\n",
        "1. Програма повинна перевіряти правильність введених користувачем значень. Користувач повинен ввести рівно 6 допустимих символів.\r\n",
        "\r\n",
        "2. Під час конвертації чисел з шістнадцяткової у десяткову систему числення *не можна* використовувати вбудованих функцій або функцій сторонніх бібліотек.\r\n",
        "\r\n",
        "Покроковий опис процесу конвертації подано за посиланням:\r\n",
        "\r\n",
        "https://www.developintelligence.com/blog/2017/02/rgb-to-hex-understanding-the-major-web-color-codes/"
      ],
      "metadata": {}
    },
    {
      "cell_type": "code",
      "execution_count": 4,
      "source": [
        "while True:\r\n",
        "    new_list = []\r\n",
        "    hexadecimal = input(\"Введіть 3-ри 16-кових числа: \")\r\n",
        "    if len(hexadecimal) != 6:\r\n",
        "        print(\"Повторіть введення\")\r\n",
        "        continue\r\n",
        "    else: \r\n",
        "        a, b, c = int(hexadecimal[0:2], 16),int(hexadecimal[2:4], 16),int(hexadecimal[4:6], 16)\r\n",
        "        new_list.append(a),new_list.append(b),new_list.append(c)\r\n",
        "        print(\"Після конвертації: \",new_list)\r\n",
        "    break"
      ],
      "outputs": [
        {
          "output_type": "error",
          "ename": "KeyboardInterrupt",
          "evalue": "Interrupted by user",
          "traceback": [
            "\u001b[1;31m---------------------------------------------------------------------------\u001b[0m",
            "\u001b[1;31mKeyboardInterrupt\u001b[0m                         Traceback (most recent call last)",
            "\u001b[1;32m~\\AppData\\Local\\Temp/ipykernel_2688/2805417908.py\u001b[0m in \u001b[0;36m<module>\u001b[1;34m\u001b[0m\n\u001b[0;32m      1\u001b[0m \u001b[1;32mwhile\u001b[0m \u001b[1;32mTrue\u001b[0m\u001b[1;33m:\u001b[0m\u001b[1;33m\u001b[0m\u001b[1;33m\u001b[0m\u001b[0m\n\u001b[0;32m      2\u001b[0m     \u001b[0mnew_list\u001b[0m \u001b[1;33m=\u001b[0m \u001b[1;33m[\u001b[0m\u001b[1;33m]\u001b[0m\u001b[1;33m\u001b[0m\u001b[1;33m\u001b[0m\u001b[0m\n\u001b[1;32m----> 3\u001b[1;33m     \u001b[0mhexadecimal\u001b[0m \u001b[1;33m=\u001b[0m \u001b[0minput\u001b[0m\u001b[1;33m(\u001b[0m\u001b[1;34m\"Введіть 3-ри 16-кових числа: \"\u001b[0m\u001b[1;33m)\u001b[0m\u001b[1;33m\u001b[0m\u001b[1;33m\u001b[0m\u001b[0m\n\u001b[0m\u001b[0;32m      4\u001b[0m     \u001b[1;32mif\u001b[0m \u001b[0mlen\u001b[0m\u001b[1;33m(\u001b[0m\u001b[0mhexadecimal\u001b[0m\u001b[1;33m)\u001b[0m \u001b[1;33m!=\u001b[0m \u001b[1;36m6\u001b[0m\u001b[1;33m:\u001b[0m\u001b[1;33m\u001b[0m\u001b[1;33m\u001b[0m\u001b[0m\n\u001b[0;32m      5\u001b[0m         \u001b[0mprint\u001b[0m\u001b[1;33m(\u001b[0m\u001b[1;34m\"Повторіть введення\"\u001b[0m\u001b[1;33m)\u001b[0m\u001b[1;33m\u001b[0m\u001b[1;33m\u001b[0m\u001b[0m\n",
            "\u001b[1;32m~\\AppData\\Roaming\\Python\\Python39\\site-packages\\ipykernel\\kernelbase.py\u001b[0m in \u001b[0;36mraw_input\u001b[1;34m(self, prompt)\u001b[0m\n\u001b[0;32m   1004\u001b[0m                 \u001b[1;34m\"raw_input was called, but this frontend does not support input requests.\"\u001b[0m\u001b[1;33m\u001b[0m\u001b[1;33m\u001b[0m\u001b[0m\n\u001b[0;32m   1005\u001b[0m             )\n\u001b[1;32m-> 1006\u001b[1;33m         return self._input_request(\n\u001b[0m\u001b[0;32m   1007\u001b[0m             \u001b[0mstr\u001b[0m\u001b[1;33m(\u001b[0m\u001b[0mprompt\u001b[0m\u001b[1;33m)\u001b[0m\u001b[1;33m,\u001b[0m\u001b[1;33m\u001b[0m\u001b[1;33m\u001b[0m\u001b[0m\n\u001b[0;32m   1008\u001b[0m             \u001b[0mself\u001b[0m\u001b[1;33m.\u001b[0m\u001b[0m_parent_ident\u001b[0m\u001b[1;33m[\u001b[0m\u001b[1;34m\"shell\"\u001b[0m\u001b[1;33m]\u001b[0m\u001b[1;33m,\u001b[0m\u001b[1;33m\u001b[0m\u001b[1;33m\u001b[0m\u001b[0m\n",
            "\u001b[1;32m~\\AppData\\Roaming\\Python\\Python39\\site-packages\\ipykernel\\kernelbase.py\u001b[0m in \u001b[0;36m_input_request\u001b[1;34m(self, prompt, ident, parent, password)\u001b[0m\n\u001b[0;32m   1049\u001b[0m             \u001b[1;32mexcept\u001b[0m \u001b[0mKeyboardInterrupt\u001b[0m\u001b[1;33m:\u001b[0m\u001b[1;33m\u001b[0m\u001b[1;33m\u001b[0m\u001b[0m\n\u001b[0;32m   1050\u001b[0m                 \u001b[1;31m# re-raise KeyboardInterrupt, to truncate traceback\u001b[0m\u001b[1;33m\u001b[0m\u001b[1;33m\u001b[0m\u001b[0m\n\u001b[1;32m-> 1051\u001b[1;33m                 \u001b[1;32mraise\u001b[0m \u001b[0mKeyboardInterrupt\u001b[0m\u001b[1;33m(\u001b[0m\u001b[1;34m\"Interrupted by user\"\u001b[0m\u001b[1;33m)\u001b[0m \u001b[1;32mfrom\u001b[0m \u001b[1;32mNone\u001b[0m\u001b[1;33m\u001b[0m\u001b[1;33m\u001b[0m\u001b[0m\n\u001b[0m\u001b[0;32m   1052\u001b[0m             \u001b[1;32mexcept\u001b[0m \u001b[0mException\u001b[0m\u001b[1;33m:\u001b[0m\u001b[1;33m\u001b[0m\u001b[1;33m\u001b[0m\u001b[0m\n\u001b[0;32m   1053\u001b[0m                 \u001b[0mself\u001b[0m\u001b[1;33m.\u001b[0m\u001b[0mlog\u001b[0m\u001b[1;33m.\u001b[0m\u001b[0mwarning\u001b[0m\u001b[1;33m(\u001b[0m\u001b[1;34m\"Invalid Message:\"\u001b[0m\u001b[1;33m,\u001b[0m \u001b[0mexc_info\u001b[0m\u001b[1;33m=\u001b[0m\u001b[1;32mTrue\u001b[0m\u001b[1;33m)\u001b[0m\u001b[1;33m\u001b[0m\u001b[1;33m\u001b[0m\u001b[0m\n",
            "\u001b[1;31mKeyboardInterrupt\u001b[0m: Interrupted by user"
          ]
        }
      ],
      "metadata": {}
    },
    {
      "cell_type": "code",
      "execution_count": null,
      "source": [],
      "outputs": [],
      "metadata": {}
    },
    {
      "cell_type": "code",
      "execution_count": 38,
      "source": [
        "long_dictionary = {\"0\":0,\"1\":1,\"2\":2,\"3\":3,\"4\":4,\"5\":5,\"6\":6,\"7\":7,\"8\":8,\"9\":9,\"A\":10,\"B\":11,\"C\":12,\"D\":13,\"E\":14,\"F\":15}\r\n",
        "new_list = []\r\n",
        "def leave():\r\n",
        "    while True:\r\n",
        "        flag = input(\"Почати програму спочатку? [Y/N]: \").lower() \r\n",
        "        if flag == \"y\":\r\n",
        "             check()\r\n",
        "        else:\r\n",
        "             break   \r\n",
        "            \r\n",
        "def check():\r\n",
        "    hexadecimal = input().upper()\r\n",
        "    for i in hexadecimal:\r\n",
        "        if i in long_dictionary:\r\n",
        "            continue\r\n",
        "        else:\r\n",
        "            leave()\r\n",
        "    a, b, c = hexadecimal[0:2],hexadecimal[2:4],hexadecimal[4:6]\r\n",
        "    sum1 = long_dictionary[a[0]] * 16 + long_dictionary[a[1]]\r\n",
        "    new_list.append(sum1)\r\n",
        "    sum2 = long_dictionary[b[0]] * 16 + long_dictionary[b[1]]\r\n",
        "    new_list.append(sum2)\r\n",
        "    sum3 = long_dictionary[c[0]] * 16 + long_dictionary[c[1]]\r\n",
        "    new_list.append(sum3)\r\n",
        "    return new_list\r\n",
        "\r\n",
        "check()\r\n",
        "\r\n",
        "\r\n"
      ],
      "outputs": [
        {
          "output_type": "execute_result",
          "data": {
            "text/plain": [
              "[12, 12, 12]"
            ]
          },
          "metadata": {},
          "execution_count": 38
        }
      ],
      "metadata": {}
    }
  ],
  "metadata": {
    "colab": {
      "collapsed_sections": [
        "LyWSBl0DOxJ8",
        "5qzvb1n_va3D",
        "fRXqCrBOmwAX"
      ],
      "name": "Practice_6.ipynb",
      "provenance": []
    },
    "kernelspec": {
      "name": "python3",
      "display_name": "Python 3.9.7 64-bit"
    },
    "language_info": {
      "name": "python",
      "version": "3.9.7",
      "mimetype": "text/x-python",
      "codemirror_mode": {
        "name": "ipython",
        "version": 3
      },
      "pygments_lexer": "ipython3",
      "nbconvert_exporter": "python",
      "file_extension": ".py"
    },
    "interpreter": {
      "hash": "a01572ae87c7a70bb71862a23998228b497fb47c464a08acd6ccbfd238a6f964"
    }
  },
  "nbformat": 4,
  "nbformat_minor": 2
}